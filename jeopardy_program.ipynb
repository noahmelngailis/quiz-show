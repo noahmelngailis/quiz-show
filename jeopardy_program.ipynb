{
 "cells": [
  {
   "cell_type": "code",
   "execution_count": 3,
   "metadata": {},
   "outputs": [],
   "source": [
    "import pandas as pd\n",
    "import numpy as np\n",
    "import time\n",
    "from script import quiz_round, get_data"
   ]
  },
  {
   "cell_type": "code",
   "execution_count": 4,
   "metadata": {},
   "outputs": [],
   "source": [
    "import regex as re"
   ]
  },
  {
   "cell_type": "code",
   "execution_count": 7,
   "metadata": {},
   "outputs": [],
   "source": [
    "def get_all_questions_from_a_category(category):\n",
    "    \n",
    "    x = len(df[df.category == category].index)\n",
    "    \n",
    "    print(f\"This round will be {x} questions long do you want to continue?\")\n",
    "    \n",
    "    q = input()\n",
    "    \n",
    "    if q == 'y':\n",
    "        for i in df[df.category == category].question.index:\n",
    "            print(df.air_date[i] + \" \\\\ \" + df.question[i])\n",
    "            time.sleep(2)\n",
    "            input()\n",
    "      \n",
    "        for i in df[df.category == category].question.index:\n",
    "            print(df.answer[i])\n",
    "        "
   ]
  },
  {
   "cell_type": "code",
   "execution_count": 11,
   "metadata": {},
   "outputs": [],
   "source": [
    "df = get_data()"
   ]
  },
  {
   "cell_type": "code",
   "execution_count": 12,
   "metadata": {},
   "outputs": [],
   "source": [
    "def get_data():\n",
    "    \"\"\"This function acquires data from csv and turns into df\"\"\"\n",
    "    \n",
    "    df = pd.read_csv(\"JEOPARDY_CSV.csv\")\n",
    "\n",
    "    df.columns = df.columns.str.strip(\" \")\n",
    "\n",
    "    df.columns = [i.lower() for i in df.columns]\n",
    "\n",
    "    df.columns = [i.replace(\" \", \"_\") for i in df.columns]\n",
    "    \n",
    "    # pulls out any question with a link\n",
    "    df[~df.question.str.contains('href')]\n",
    "    \n",
    "    \n",
    "    df.value = (df.value.str.replace('$', \"\")\n",
    "                    .str.replace(',',\"\")\n",
    "                    .str.replace('None', \"10000\")\n",
    "                    .astype('float')\n",
    "               )\n",
    "    return df\n",
    "\n",
    "df = get_data()\n",
    "\n",
    "def question(i):\n",
    "    print(df.air_date[i] + \" \\\\ \" + df.category[i] + \" \\\\ \" + df.value[i] + \":  \" + df.question[i])\n",
    "\n",
    "def make_random_list(n):\n",
    "    question_list = np.random.randint(0, len(df), n)\n",
    "    return question_list\n",
    "\n",
    "def answer(i):\n",
    "    print(df.answer[i])\n",
    "\n",
    "def quiz_round():\n",
    "\n",
    "    question_list = make_random_list(8)\n",
    "\n",
    "    for i in question_list:\n",
    "        question(i)\n",
    "        time.sleep(3)\n",
    "        input()\n",
    "\n",
    "    input()\n",
    "\n",
    "    for i in question_list:\n",
    "        answer(i) "
   ]
  },
  {
   "cell_type": "code",
   "execution_count": 13,
   "metadata": {},
   "outputs": [],
   "source": [
    "def type_quiz_round(x):\n",
    "    \"\"\"incomplete functionality needs to be fixed\"\"\"\n",
    "    df = df[df.value == x]\n",
    "    \n",
    "    question_list = make_random_list(8)\n",
    "\n",
    "    for i in question_list:\n",
    "        question(i)\n",
    "        time.sleep(3)\n",
    "        input()\n",
    "\n",
    "    input()\n",
    "\n",
    "    for i in question_list:\n",
    "        answer(i) "
   ]
  },
  {
   "cell_type": "code",
   "execution_count": 14,
   "metadata": {},
   "outputs": [
    {
     "name": "stdout",
     "output_type": "stream",
     "text": [
      "<class 'pandas.core.frame.DataFrame'>\n",
      "RangeIndex: 216930 entries, 0 to 216929\n",
      "Data columns (total 7 columns):\n",
      " #   Column       Non-Null Count   Dtype  \n",
      "---  ------       --------------   -----  \n",
      " 0   show_number  216930 non-null  int64  \n",
      " 1   air_date     216930 non-null  object \n",
      " 2   round        216930 non-null  object \n",
      " 3   category     216930 non-null  object \n",
      " 4   value        216930 non-null  float64\n",
      " 5   question     216930 non-null  object \n",
      " 6   answer       216928 non-null  object \n",
      "dtypes: float64(1), int64(1), object(5)\n",
      "memory usage: 11.6+ MB\n"
     ]
    }
   ],
   "source": [
    "df.info()"
   ]
  },
  {
   "cell_type": "code",
   "execution_count": 15,
   "metadata": {},
   "outputs": [
    {
     "data": {
      "text/plain": [
       "400.0     42244\n",
       "800.0     31860\n",
       "200.0     30455\n",
       "1000.0    21640\n",
       "600.0     20377\n",
       "2000.0    12829\n",
       "1200.0    11772\n",
       "1600.0    11040\n",
       "100.0      9029\n",
       "500.0      9016\n",
       "Name: value, dtype: int64"
      ]
     },
     "execution_count": 15,
     "metadata": {},
     "output_type": "execute_result"
    }
   ],
   "source": [
    "df.value.value_counts().nlargest(10)"
   ]
  },
  {
   "cell_type": "code",
   "execution_count": 16,
   "metadata": {},
   "outputs": [],
   "source": [
    "rounds = [200, 400, 600, 800, 1000, 1200, 1400, 1600, 1800, 2000]"
   ]
  },
  {
   "cell_type": "code",
   "execution_count": 17,
   "metadata": {},
   "outputs": [
    {
     "data": {
      "text/plain": [
       "category                     air_date  \n",
       " A JIM CARREY FILM FESTIVAL  2004-12-01     True\n",
       "\"!\"                          2000-09-13     True\n",
       "\"-ARES\"                      2010-10-15     True\n",
       "\"-ICIAN\" EXPEDITION          2006-05-30     True\n",
       "\"...OD\" WORDS                2001-03-14     True\n",
       "                                           ...  \n",
       "“R” MOVIES                   1997-11-27     True\n",
       "“SAINTS”                     1985-11-13    False\n",
       "“SOUTH”                      1985-11-11     True\n",
       "“STREETS”                    1985-11-14     True\n",
       "“WH”AT IS IT?                2001-06-22     True\n",
       "Name: question, Length: 47143, dtype: bool"
      ]
     },
     "execution_count": 17,
     "metadata": {},
     "output_type": "execute_result"
    }
   ],
   "source": [
    "(df.groupby(['category', 'air_date']).question.count() == 5)"
   ]
  },
  {
   "cell_type": "code",
   "execution_count": 18,
   "metadata": {},
   "outputs": [],
   "source": [
    "# Make a function that picks a question given a number, asks for an answer, \n",
    "#and then checks that answer against the answer in the df\n",
    "def question_with_input(i):\n",
    "    print(df.air_date[i] + \" \\\\ \" + df.category[i] + \" \\\\ \" + df.value[i].astype(str) + \":  \" + df.question[i])\n",
    "    x = input(\"Answer in the form of a question:\")\n",
    "    \n",
    "    return x\n",
    "    \n",
    "def answer(i):\n",
    "    return df.answer[i]"
   ]
  },
  {
   "cell_type": "code",
   "execution_count": 24,
   "metadata": {},
   "outputs": [
    {
     "name": "stdout",
     "output_type": "stream",
     "text": [
      "2010-07-06 \\ LET'S BOUNCE \\ 200.0:  This verb for bouncing a basketball sounds like you're slobbering\n",
      "Answer in the form of a question:To dribble\n",
      "0\n"
     ]
    }
   ],
   "source": [
    "i = 60\n",
    "\n",
    "score = 0\n",
    "if question_with_input(i) == answer(i):\n",
    "    score += df.value(i)\n",
    "\n",
    "answer([i])\n",
    "print(score)\n",
    "    "
   ]
  },
  {
   "cell_type": "code",
   "execution_count": 25,
   "metadata": {},
   "outputs": [
    {
     "data": {
      "text/plain": [
       "'dribbling'"
      ]
     },
     "execution_count": 25,
     "metadata": {},
     "output_type": "execute_result"
    }
   ],
   "source": [
    "answer(60)"
   ]
  },
  {
   "cell_type": "code",
   "execution_count": null,
   "metadata": {},
   "outputs": [],
   "source": []
  },
  {
   "cell_type": "code",
   "execution_count": null,
   "metadata": {},
   "outputs": [],
   "source": []
  }
 ],
 "metadata": {
  "kernelspec": {
   "display_name": "Python 3",
   "language": "python",
   "name": "python3"
  },
  "language_info": {
   "codemirror_mode": {
    "name": "ipython",
    "version": 3
   },
   "file_extension": ".py",
   "mimetype": "text/x-python",
   "name": "python",
   "nbconvert_exporter": "python",
   "pygments_lexer": "ipython3",
   "version": "3.7.4"
  }
 },
 "nbformat": 4,
 "nbformat_minor": 2
}
