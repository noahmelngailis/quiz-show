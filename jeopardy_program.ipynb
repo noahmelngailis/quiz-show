{
 "cells": [
  {
   "cell_type": "code",
   "execution_count": 1,
   "metadata": {},
   "outputs": [],
   "source": [
    "import pandas as pd\n",
    "import numpy as np\n",
    "import time\n",
    "from script import quiz_round, get_data"
   ]
  },
  {
   "cell_type": "code",
   "execution_count": 3,
   "metadata": {},
   "outputs": [
    {
     "name": "stdout",
     "output_type": "stream",
     "text": [
      "2000-03-29 \\ AMERICAN HISTORY \\ $300:  The political slogan \"As\" this state \"goes, so goes the nation\" dates back to the 1880s\n",
      "\n",
      "1997-02-25 \\ THEATER \\ $800:  Reel off a list of his works & you'll find \"The Real Inspector Hound\" & \"The Real Thing\"\n",
      "\n",
      "2010-07-26 \\ REMEMBER THE \"MAIN\" \\ $800:  He's a guy's best male friend, his No. 1 buddy, his this\n",
      "\n",
      "1990-04-23 \\ PLANTS \\ $200:  Russian thistle breaks from its base & goes drifting along with the wind -- so it's called this\n",
      "\n",
      "1997-12-12 \\ HAMMERS \\ $300:  Goods being sold \"under the hammer\" are found at these events\n",
      "\n",
      "2005-03-24 \\ SMITH COLLEGE ALUMNAE \\ $200:  She went to Smith in 1918 hoping to become a doctor; her dream was \"Gone with the Wind\" when her mom died in 1919\n",
      "\n",
      "1997-07-18 \\ IN THE BACKYARD \\ $100:  One of these devices stocked with thistle seeds may attract goldfinches\n",
      "\n",
      "2006-04-11 \\ CHURCHES & CATHEDRALS \\ $800:  Her Angelus Temple, which was completed in L.A. in 1923, was said to look like a giant spaceship\n",
      "\n",
      "\n",
      "Maine\n",
      "Tom Stoppard\n",
      "a main man\n",
      "Tumbleweed\n",
      "Auctions\n",
      "Margaret Mitchell\n",
      "a birdfeeder\n",
      "Aimee Semple McPherson\n"
     ]
    }
   ],
   "source": [
    "quiz_round()"
   ]
  },
  {
   "cell_type": "code",
   "execution_count": null,
   "metadata": {},
   "outputs": [],
   "source": [
    "import regex as re"
   ]
  },
  {
   "cell_type": "code",
   "execution_count": null,
   "metadata": {},
   "outputs": [],
   "source": [
    "df = get_data()"
   ]
  },
  {
   "cell_type": "code",
   "execution_count": null,
   "metadata": {},
   "outputs": [],
   "source": [
    "df.head(2)"
   ]
  },
  {
   "cell_type": "code",
   "execution_count": null,
   "metadata": {},
   "outputs": [],
   "source": [
    "df.question.apply(lambda x: re.search()"
   ]
  },
  {
   "cell_type": "code",
   "execution_count": null,
   "metadata": {},
   "outputs": [],
   "source": [
    "for i in df[df.category == 'LYRICALLY YOURS'].question.index:\n",
    "    print(df.question[i])\n",
    "    time.sleep(2)\n",
    "    input()"
   ]
  },
  {
   "cell_type": "code",
   "execution_count": null,
   "metadata": {},
   "outputs": [],
   "source": [
    "for i in df[df.category == 'LYRICALLY YOURS'].question.index:\n",
    "    print(df.answer[i])\n",
    "    time.sleep(2)\n",
    "    input()"
   ]
  },
  {
   "cell_type": "code",
   "execution_count": null,
   "metadata": {},
   "outputs": [],
   "source": [
    "\n",
    "\n"
   ]
  }
 ],
 "metadata": {
  "kernelspec": {
   "display_name": "Python 3",
   "language": "python",
   "name": "python3"
  },
  "language_info": {
   "codemirror_mode": {
    "name": "ipython",
    "version": 3
   },
   "file_extension": ".py",
   "mimetype": "text/x-python",
   "name": "python",
   "nbconvert_exporter": "python",
   "pygments_lexer": "ipython3",
   "version": "3.7.4"
  }
 },
 "nbformat": 4,
 "nbformat_minor": 2
}
