{
 "cells": [
  {
   "cell_type": "code",
   "execution_count": 2,
   "metadata": {},
   "outputs": [],
   "source": [
    "import pandas as pd\n",
    "import numpy as np\n",
    "import time\n",
    "from script import quiz_round, get_data"
   ]
  },
  {
   "cell_type": "code",
   "execution_count": null,
   "metadata": {},
   "outputs": [],
   "source": [
    "quiz_round()"
   ]
  },
  {
   "cell_type": "code",
   "execution_count": null,
   "metadata": {},
   "outputs": [],
   "source": [
    "import regex as re"
   ]
  },
  {
   "cell_type": "code",
   "execution_count": null,
   "metadata": {},
   "outputs": [],
   "source": [
    "df = get_data()"
   ]
  },
  {
   "cell_type": "code",
   "execution_count": null,
   "metadata": {},
   "outputs": [],
   "source": [
    "df.head(2)"
   ]
  },
  {
   "cell_type": "code",
   "execution_count": null,
   "metadata": {},
   "outputs": [],
   "source": [
    "df.question.apply(lambda x: re.search()"
   ]
  },
  {
   "cell_type": "code",
   "execution_count": null,
   "metadata": {},
   "outputs": [],
   "source": [
    "def get_all_questions_from_a_category(category):\n",
    "    \n",
    "    x = len(df[df.category == category].index)\n",
    "    \n",
    "    print(f\"This round will be {x} questions long do you want to continue?\")\n",
    "    \n",
    "    q = input()\n",
    "    \n",
    "    if q == 'y':\n",
    "        for i in df[df.category == category].question.index:\n",
    "            print(df.air_date[i] + \" \\\\ \" + df.question[i])\n",
    "            time.sleep(2)\n",
    "            input()\n",
    "      \n",
    "        for i in df[df.category == category].question.index:\n",
    "            print(df.answer[i])\n",
    "        "
   ]
  },
  {
   "cell_type": "code",
   "execution_count": null,
   "metadata": {},
   "outputs": [],
   "source": [
    "category = \"ESPN's TOP 10 ALL-TIME ATHLETES\""
   ]
  },
  {
   "cell_type": "code",
   "execution_count": null,
   "metadata": {},
   "outputs": [],
   "source": [
    "get_all_questions_from_a_category(category)   "
   ]
  },
  {
   "cell_type": "code",
   "execution_count": null,
   "metadata": {},
   "outputs": [],
   "source": [
    "quiz_round()"
   ]
  },
  {
   "cell_type": "code",
   "execution_count": 3,
   "metadata": {},
   "outputs": [],
   "source": [
    "df = get_data()"
   ]
  },
  {
   "cell_type": "code",
   "execution_count": 4,
   "metadata": {},
   "outputs": [
    {
     "data": {
      "text/plain": [
       "(216930, 7)"
      ]
     },
     "execution_count": 4,
     "metadata": {},
     "output_type": "execute_result"
    }
   ],
   "source": [
    "df.shape"
   ]
  },
  {
   "cell_type": "code",
   "execution_count": 11,
   "metadata": {},
   "outputs": [],
   "source": [
    "def get_data():\n",
    "    \"\"\"This function acquires data from csv and turns into df\"\"\"\n",
    "    \n",
    "    df = pd.read_csv(\"JEOPARDY_CSV.csv\")\n",
    "\n",
    "    df.columns = df.columns.str.strip(\" \")\n",
    "\n",
    "    df.columns = [i.lower() for i in df.columns]\n",
    "\n",
    "    df.columns = [i.replace(\" \", \"_\") for i in df.columns]\n",
    "    \n",
    "    # pulls out any question with a link\n",
    "    df[~df.question.str.contains('href')]\n",
    "    \n",
    "    \n",
    "    df.value = (df.value.str.replace('$', \"\")\n",
    "                    .str.replace(',',\"\")\n",
    "                    .str.replace('None', \"10000\")\n",
    "                    .astype('float')\n",
    "               )\n",
    "    return df\n",
    "\n",
    "df = get_data()\n",
    "\n",
    "def question(i):\n",
    "    print(df.air_date[i] + \" \\\\ \" + df.category[i] + \" \\\\ \" + df.value[i] + \":  \" + df.question[i])\n",
    "\n",
    "def make_random_list(n):\n",
    "    question_list = np.random.randint(0, len(df), n)\n",
    "    return question_list\n",
    "\n",
    "def answer(i):\n",
    "    print(df.answer[i])\n",
    "\n",
    "def quiz_round():\n",
    "\n",
    "    question_list = make_random_list(8)\n",
    "\n",
    "    for i in question_list:\n",
    "        question(i)\n",
    "        time.sleep(3)\n",
    "        input()\n",
    "\n",
    "    input()\n",
    "\n",
    "    for i in question_list:\n",
    "        answer(i) "
   ]
  },
  {
   "cell_type": "code",
   "execution_count": 15,
   "metadata": {},
   "outputs": [],
   "source": [
    "def type_quiz_round(x):\n",
    "    \"\"\"incomplete functionality needs to be fixed\"\"\"\n",
    "    df = df[df.value == x]\n",
    "    \n",
    "    question_list = make_random_list(8)\n",
    "\n",
    "    for i in question_list:\n",
    "        question(i)\n",
    "        time.sleep(3)\n",
    "        input()\n",
    "\n",
    "    input()\n",
    "\n",
    "    for i in question_list:\n",
    "        answer(i) "
   ]
  },
  {
   "cell_type": "code",
   "execution_count": null,
   "metadata": {},
   "outputs": [],
   "source": []
  }
 ],
 "metadata": {
  "kernelspec": {
   "display_name": "Python 3",
   "language": "python",
   "name": "python3"
  },
  "language_info": {
   "codemirror_mode": {
    "name": "ipython",
    "version": 3
   },
   "file_extension": ".py",
   "mimetype": "text/x-python",
   "name": "python",
   "nbconvert_exporter": "python",
   "pygments_lexer": "ipython3",
   "version": "3.7.4"
  }
 },
 "nbformat": 4,
 "nbformat_minor": 2
}
