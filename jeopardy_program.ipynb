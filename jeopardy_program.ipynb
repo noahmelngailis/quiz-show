{
 "cells": [
  {
   "cell_type": "code",
   "execution_count": 2,
   "metadata": {},
   "outputs": [],
   "source": [
    "import pandas as pd\n",
    "import numpy as np\n",
    "import time\n",
    "from script import quiz_round"
   ]
  },
  {
   "cell_type": "code",
   "execution_count": 3,
   "metadata": {},
   "outputs": [
    {
     "name": "stdout",
     "output_type": "stream",
     "text": [
      "2004-09-28 \\ GREAT BRITS \\ $800:  There was no royal fun allowed when this man took power in England in 1653\n",
      "\n",
      "2004-02-26 \\ CLASSIC SCI-FI & HORROR FILMS \\ $1600:  More famous for his 14 films as Sherlock Holmes, he was the \"Son of Frankenstein\" in 1939\n",
      "\n",
      "2006-10-24 \\ TV DADS \\ $400:  Jock Ewing\n",
      "\n",
      "1997-06-23 \\ THE BIBLE \\ $100:  This husband of Mary is not named in Mark's gospel\n",
      "\n",
      "1997-02-26 \\ QUOTATIONS \\ $400:  In his almanac Benjamin Franklin cynically wrote, \"Where there's marriage without love, there will be\" this\n",
      "\n",
      "1992-09-08 \\ FAMOUS SCIENTISTS \\ None:  In 1969 the N.Y. Times retracted a 1920 editorial ridiculing his claim that rockets could fly to the Moon\n",
      "\n",
      "1999-11-03 \\ FAMOUS NAMES \\ $200:  Before becoming attorney general of the U.S., she was state attorney for Dade County, Florida\n",
      "\n",
      "2002-05-07 \\ GREECE \\ $1600:  If you love the nightlife & want to boogie, head to Pierros, a bar on this party island of the Cyclades\n",
      "\n",
      "\n",
      "Oliver Cromwell\n",
      "(Basil) Rathbone\n",
      "Dallas\n",
      "Joseph\n",
      "Love without marriage\n",
      "Robert Goddard\n",
      "Janet Reno\n",
      "Mykonos\n"
     ]
    }
   ],
   "source": [
    "quiz_round()"
   ]
  },
  {
   "cell_type": "code",
   "execution_count": null,
   "metadata": {},
   "outputs": [],
   "source": []
  }
 ],
 "metadata": {
  "kernelspec": {
   "display_name": "Python 3",
   "language": "python",
   "name": "python3"
  },
  "language_info": {
   "codemirror_mode": {
    "name": "ipython",
    "version": 3
   },
   "file_extension": ".py",
   "mimetype": "text/x-python",
   "name": "python",
   "nbconvert_exporter": "python",
   "pygments_lexer": "ipython3",
   "version": "3.7.4"
  }
 },
 "nbformat": 4,
 "nbformat_minor": 2
}
